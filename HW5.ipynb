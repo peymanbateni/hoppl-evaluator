{
 "cells": [
  {
   "cell_type": "code",
   "execution_count": 1,
   "metadata": {},
   "outputs": [],
   "source": [
    "import pickle\n",
    "import matplotlib.pyplot as plt\n",
    "import numpy as np\n",
    "import torch"
   ]
  },
  {
   "cell_type": "code",
   "execution_count": 2,
   "metadata": {},
   "outputs": [],
   "source": [
    "with open(\"samples.pk\", \"rb+\") as f:\n",
    "    samples = pickle.load(f)"
   ]
  },
  {
   "cell_type": "code",
   "execution_count": 3,
   "metadata": {},
   "outputs": [
    {
     "name": "stdout",
     "output_type": "stream",
     "text": [
      "Marginal Expectation of Until-Success 97.974 with variance 9742.636\n"
     ]
    },
    {
     "data": {
      "image/png": "[encoded data removed]",
      "text/plain": [
       "<Figure size 432x288 with 1 Axes>"
      ]
     },
     "metadata": {
      "needs_background": "light"
     },
     "output_type": "display_data"
    }
   ],
   "source": [
    "# test 1\n",
    "test_1_samples = torch.FloatTensor(samples[1]).numpy()\n",
    "\n",
    "plt.hist(test_1_samples, density=True, bins=30)\n",
    "plt.ylabel('Probability')\n",
    "plt.xlabel('Until-Success steps')\n",
    "plt.title('Test 2 - Until-Success Histogram')\n",
    "plt.savefig(\"Test 2 - Until-Success Histogram.pdf\", bbox_inches='tight')\n",
    "\n",
    "print(\"Marginal Expectation of Until-Success\", test_1_samples.mean(), \"with variance\", test_1_samples.var())"
   ]
  },
  {
   "cell_type": "code",
   "execution_count": 4,
   "metadata": {},
   "outputs": [
    {
     "name": "stdout",
     "output_type": "stream",
     "text": [
      "Marginal Expectation of Mu 0.99817896 with variance 5.142994\n"
     ]
    },
    {
     "data": {
      "image/png": "[encoded data removed]",
      "text/plain": [
       "<Figure size 432x288 with 1 Axes>"
      ]
     },
     "metadata": {
      "needs_background": "light"
     },
     "output_type": "display_data"
    }
   ],
   "source": [
    "# test 2\n",
    "test_2_samples = torch.stack(samples[2]).numpy()\n",
    "\n",
    "# slope\n",
    "plt.hist(test_2_samples, density=True, bins=30)\n",
    "plt.ylabel('Probability')\n",
    "plt.xlabel('Mu')\n",
    "plt.title('Test 3 - Mu Histogram')\n",
    "plt.savefig(\"Test 3 - Mu Histogram.pdf\", bbox_inches='tight')\n",
    "\n",
    "print(\"Marginal Expectation of Mu\", test_2_samples.mean(), \"with variance\", test_2_samples.var())"
   ]
  },
  {
   "cell_type": "code",
   "execution_count": 5,
   "metadata": {},
   "outputs": [
    {
     "name": "stdout",
     "output_type": "stream",
     "text": [
      "Marginal Expectation of State 1 1.454 with variance 0.51188403\n",
      "Marginal Expectation of State 2 1.392 with variance 0.5443361\n",
      "Marginal Expectation of State 3 1.404 with variance 0.55078405\n",
      "Marginal Expectation of State 4 1.391 with variance 0.56011903\n",
      "Marginal Expectation of State 5 1.417 with variance 0.53711104\n",
      "Marginal Expectation of State 6 1.4 with variance 0.542\n",
      "Marginal Expectation of State 7 1.41 with variance 0.5439\n",
      "Marginal Expectation of State 8 1.398 with variance 0.5795959\n",
      "Marginal Expectation of State 9 1.39 with variance 0.5439\n",
      "Marginal Expectation of State 10 1.433 with variance 0.537511\n",
      "Marginal Expectation of State 11 1.421 with variance 0.537759\n",
      "Marginal Expectation of State 12 1.417 with variance 0.5551111\n",
      "Marginal Expectation of State 13 1.411 with variance 0.556079\n",
      "Marginal Expectation of State 14 1.43 with variance 0.52910006\n",
      "Marginal Expectation of State 15 1.421 with variance 0.55375904\n",
      "Marginal Expectation of State 16 1.466 with variance 0.49884406\n",
      "Marginal Expectation of State 17 0.989 with variance 0.6648789\n"
     ]
    },
    {
     "data": {
      "text/plain": [
       "<Figure size 432x288 with 0 Axes>"
      ]
     },
     "metadata": {},
     "output_type": "display_data"
    }
   ],
   "source": [
    "# test 3\n",
    "\n",
    "test_3_samples = torch.stack(samples[3]).numpy()\n",
    "\n",
    "for i in range(17):\n",
    "    plt.hist(test_3_samples[:,i], density=True, bins=30)\n",
    "    plt.ylabel('Probability')\n",
    "    plt.xlabel('State ' + str(i+1))\n",
    "    plt.title('Test 4 - State ' + str(i+1) + ' Histogram')\n",
    "    plt.savefig(\"Test 4 - State \" + str(i+1) + \" Histogram.pdf\", bbox_inches='tight')\n",
    "    plt.clf()\n",
    "    print(\"Marginal Expectation of State \" + str(i+1), test_3_samples[:,i].mean(), \"with variance\", test_3_samples[:,i].var())"
   ]
  },
  {
   "cell_type": "code",
   "execution_count": null,
   "metadata": {},
   "outputs": [],
   "source": []
  }
 ],
 "metadata": {
  "kernelspec": {
   "display_name": "Python 3",
   "language": "python",
   "name": "python3"
  },
  "language_info": {
   "codemirror_mode": {
    "name": "ipython",
    "version": 3
   },
   "file_extension": ".py",
   "mimetype": "text/x-python",
   "name": "python",
   "nbconvert_exporter": "python",
   "pygments_lexer": "ipython3",
   "version": "3.7.6"
  }
 },
 "nbformat": 4,
 "nbformat_minor": 4
}
